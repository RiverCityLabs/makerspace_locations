{
 "cells": [
  {
   "cell_type": "markdown",
   "metadata": {},
   "source": [
    "## Requirements\n",
    "- Anaconda\n",
    "- Python 3.5\n",
    "- Pandas\n",
    "- Requests"
   ]
  },
  {
   "cell_type": "code",
   "execution_count": null,
   "metadata": {
    "collapsed": true
   },
   "outputs": [],
   "source": [
    "import numpy as np\n",
    "import pandas as pd\n",
    "import requests"
   ]
  },
  {
   "cell_type": "markdown",
   "metadata": {},
   "source": [
    "### Function\n",
    "1. Loads addresses from a file pulled from excel file and cleans it for maps api\n",
    "2. Generates request string\n",
    "3. Receives json package in pandas dataframe that contains distance and duration from member address to potential location\n",
    "4. Stores duration in dataframe and generates statistics on that data"
   ]
  },
  {
   "cell_type": "code",
   "execution_count": null,
   "metadata": {
    "collapsed": false
   },
   "outputs": [],
   "source": [
    "df = pd.read_excel('C:/Users/Chris/Documents/history_address.xlsx')\n",
    "df = df[['Order Notes', 'Total']]\n",
    "df = df[~df['Total'].isnull()]\n",
    "df = df[~df['Total'].str.contains('Ship to')]\n",
    "df['Total'] = df['Total'].str.replace(',', '').str.replace(' ', '+')\n",
    "df['Total'].unique()"
   ]
  },
  {
   "cell_type": "code",
   "execution_count": null,
   "metadata": {
    "collapsed": false
   },
   "outputs": [],
   "source": [
    "destinations = ['1213 SW Adams Peoria IL',\n",
    "                '201 Thunderbird Lane East Peoria IL',\n",
    "                '201 Spring St Peoria IL',\n",
    "                '7916 N Hale Peoria IL']\n",
    "for i, destination in enumerate(destinations):\n",
    "    destinations[i] = destination.replace(' ', '+')"
   ]
  },
  {
   "cell_type": "code",
   "execution_count": null,
   "metadata": {
    "collapsed": false
   },
   "outputs": [],
   "source": [
    "base_url = 'https://maps.googleapis.com/maps/api/distancematrix/json?'\n",
    "units = 'imperial'\n",
    "key = '#####################################'\n",
    "response = []\n",
    "for address in df['Total'].unique():\n",
    "    column = []\n",
    "    for destination in destinations:\n",
    "        url = '{0}units={1}&origins={2}&destinations={3}&key={4}'.format(base_url, units, address, destination, key)\n",
    "        res = requests.get(url)\n",
    "        column.append(res)\n",
    "    response.append(column)"
   ]
  },
  {
   "cell_type": "code",
   "execution_count": null,
   "metadata": {
    "collapsed": false
   },
   "outputs": [],
   "source": [
    "data = pd.DataFrame(response)\n",
    "duration = data.applymap(lambda x: x.json())\n",
    "duration.columns = destinations\n",
    "duration.index = df['Total'].unique()\n",
    "duration = duration[duration.applymap(lambda x: True if x['status'] == 'OK' else False)].dropna()\n",
    "duration = duration[duration.applymap(lambda x: True if x['rows'][0]['elements'][0]['status'] == 'OK' else False)].dropna()\n",
    "duration = duration.applymap(lambda x: x['rows'][0]['elements'][0]['duration']['value'])\n",
    "duration = duration/60\n",
    "duration.describe()"
   ]
  }
 ],
 "metadata": {
  "kernelspec": {
   "display_name": "Python 3",
   "language": "python",
   "name": "python3"
  },
  "language_info": {
   "codemirror_mode": {
    "name": "ipython",
    "version": 3
   },
   "file_extension": ".py",
   "mimetype": "text/x-python",
   "name": "python",
   "nbconvert_exporter": "python",
   "pygments_lexer": "ipython3",
   "version": "3.4.4"
  }
 },
 "nbformat": 4,
 "nbformat_minor": 0
}
